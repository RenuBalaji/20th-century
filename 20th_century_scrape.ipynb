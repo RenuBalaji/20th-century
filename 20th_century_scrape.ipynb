{
 "cells": [
  {
   "cell_type": "code",
   "execution_count": 10,
   "metadata": {},
   "outputs": [
    {
     "name": "stdout",
     "output_type": "stream",
     "text": [
      "Requirement already satisfied: selenium in /Users/renubalaji/opt/anaconda3/lib/python3.8/site-packages (3.141.0)\n",
      "Requirement already satisfied: urllib3 in /Users/renubalaji/opt/anaconda3/lib/python3.8/site-packages (from selenium) (1.25.11)\n",
      "Requirement already satisfied: beautifulsoup4 in /Users/renubalaji/opt/anaconda3/lib/python3.8/site-packages (4.11.1)\n",
      "Requirement already satisfied: soupsieve>1.2 in /Users/renubalaji/opt/anaconda3/lib/python3.8/site-packages (from beautifulsoup4) (2.0.1)\n"
     ]
    }
   ],
   "source": [
    "# Install the required libraries\n",
    "!pip install selenium\n",
    "!pip install beautifulsoup4\n",
    "\n",
    "# Import libraries\n",
    "from selenium import webdriver\n",
    "from selenium.webdriver.chrome.service import Service\n",
    "from bs4 import BeautifulSoup\n",
    "import time"
   ]
  },
  {
   "cell_type": "code",
   "execution_count": 12,
   "metadata": {},
   "outputs": [
    {
     "name": "stdout",
     "output_type": "stream",
     "text": [
      "Data scraped and saved to 'key_events_20th_century.txt'.\n"
     ]
    }
   ],
   "source": [
    "# Import necessary libraries\n",
    "from selenium import webdriver\n",
    "from selenium.webdriver.chrome.options import Options\n",
    "from bs4 import BeautifulSoup\n",
    "import time\n",
    "\n",
    "# Path to your ChromeDriver\n",
    "chrome_driver_path = '/Users/renubalaji/Documents/GitHubProjects/chromedriver-mac-x64/chromedriver'\n",
    "\n",
    "# Set up Chrome options (optional)\n",
    "chrome_options = Options()\n",
    "# Commenting out headless for testing\n",
    "# chrome_options.add_argument(\"--headless\")  # Optional: Run in headless mode\n",
    "\n",
    "# Initialize ChromeDriver with the executable path\n",
    "driver = webdriver.Chrome(executable_path=chrome_driver_path, options=chrome_options)\n",
    "\n",
    "# Open the Key Events of the 20th Century page\n",
    "url = \"https://en.wikipedia.org/wiki/Key_events_of_the_20th_century\"\n",
    "driver.get(url)\n",
    "\n",
    "# Allow some time for the page to load\n",
    "time.sleep(3)\n",
    "\n",
    "# Get the page source\n",
    "html_content = driver.page_source\n",
    "\n",
    "# Use BeautifulSoup to parse the HTML\n",
    "soup = BeautifulSoup(html_content, \"html.parser\")\n",
    "\n",
    "# Close the browser\n",
    "driver.quit()\n",
    "\n",
    "# Scrape key content (e.g., headings, paragraphs)\n",
    "headings = soup.find_all(['h2', 'h3'])\n",
    "events = soup.find_all('p')\n",
    "\n",
    "# Save the data to a text file\n",
    "with open('key_events_20th_century.txt', 'w', encoding='utf-8') as file:\n",
    "    # Write headings to the file\n",
    "    for heading in headings:\n",
    "        file.write(heading.get_text().strip() + '\\n')\n",
    "    \n",
    "    # Write events to the file\n",
    "    for event in events:\n",
    "        file.write(event.get_text().strip() + '\\n')\n",
    "\n",
    "print(\"Data scraped and saved to 'key_events_20th_century.txt'.\")"
   ]
  },
  {
   "cell_type": "code",
   "execution_count": null,
   "metadata": {},
   "outputs": [],
   "source": []
  }
 ],
 "metadata": {
  "kernelspec": {
   "display_name": "20th_century",
   "language": "python",
   "name": "20th_century"
  },
  "language_info": {
   "codemirror_mode": {
    "name": "ipython",
    "version": 3
   },
   "file_extension": ".py",
   "mimetype": "text/x-python",
   "name": "python",
   "nbconvert_exporter": "python",
   "pygments_lexer": "ipython3",
   "version": "3.8.5"
  }
 },
 "nbformat": 4,
 "nbformat_minor": 4
}
