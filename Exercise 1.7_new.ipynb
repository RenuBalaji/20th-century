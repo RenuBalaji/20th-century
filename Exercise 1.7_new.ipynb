{
 "cells": [
  {
   "cell_type": "markdown",
   "metadata": {},
   "source": [
    "# Creating Networks"
   ]
  },
  {
   "cell_type": "code",
   "execution_count": 14,
   "metadata": {},
   "outputs": [],
   "source": [
    "import pandas as pd\n",
    "import numpy as np\n",
    "import networkx as nx\n",
    "import os\n",
    "import matplotlib.pyplot as plt\n",
    "from pyvis.network import Network\n",
    "import seaborn as sns\n",
    "import pyvis \n",
    "import ast"
   ]
  },
  {
   "cell_type": "code",
   "execution_count": 11,
   "metadata": {},
   "outputs": [],
   "source": [
    "df = pd.read_csv(\"df_sentences_filtered.csv\", index_col = 0)"
   ]
  },
  {
   "cell_type": "code",
   "execution_count": 12,
   "metadata": {},
   "outputs": [
    {
     "data": {
      "text/html": [
       "<div>\n",
       "<style scoped>\n",
       "    .dataframe tbody tr th:only-of-type {\n",
       "        vertical-align: middle;\n",
       "    }\n",
       "\n",
       "    .dataframe tbody tr th {\n",
       "        vertical-align: top;\n",
       "    }\n",
       "\n",
       "    .dataframe thead th {\n",
       "        text-align: right;\n",
       "    }\n",
       "</style>\n",
       "<table border=\"1\" class=\"dataframe\">\n",
       "  <thead>\n",
       "    <tr style=\"text-align: right;\">\n",
       "      <th></th>\n",
       "      <th>entities</th>\n",
       "      <th>character_entity</th>\n",
       "    </tr>\n",
       "    <tr>\n",
       "      <th>sentence</th>\n",
       "      <th></th>\n",
       "      <th></th>\n",
       "    </tr>\n",
       "  </thead>\n",
       "  <tbody>\n",
       "    <tr>\n",
       "      <th>The Allies, known initially as \"The Triple Entente\", comprised the British Empire, France, and Russia.</th>\n",
       "      <td>['The Triple Entente', 'the British Empire', '...</td>\n",
       "      <td>['france', 'russia']</td>\n",
       "    </tr>\n",
       "    <tr>\n",
       "      <th>Germany, Austria-Hungary, Bulgaria, and later the Ottoman Empire, were known as \"The Central Powers\".[3][4]\\n</th>\n",
       "      <td>['Germany', 'Austria-Hungary', 'Bulgaria', 'th...</td>\n",
       "      <td>['germany', 'bulgaria']</td>\n",
       "    </tr>\n",
       "    <tr>\n",
       "      <th>In 1917, Russia ended hostile actions against the Central Powers after the fall of the Tsar.</th>\n",
       "      <td>['1917', 'Russia', 'the Central Powers', 'Tsar']</td>\n",
       "      <td>['russia']</td>\n",
       "    </tr>\n",
       "    <tr>\n",
       "      <th>The Bolsheviks negotiated the Treaty of Brest-Litovsk with Germany, although it was a huge cost to Russia.</th>\n",
       "      <td>['Bolsheviks', 'the Treaty of Brest-Litovsk', ...</td>\n",
       "      <td>['germany', 'russia']</td>\n",
       "    </tr>\n",
       "    <tr>\n",
       "      <th>In the treaty, Bolshevik Russia ceded the Baltic states to Germany, and its province of Kars Oblast in the South Caucasus to the Ottoman Empire.</th>\n",
       "      <td>['Bolshevik Russia', 'Baltic', 'Germany', 'Kar...</td>\n",
       "      <td>['germany']</td>\n",
       "    </tr>\n",
       "  </tbody>\n",
       "</table>\n",
       "</div>"
      ],
      "text/plain": [
       "                                                                                             entities  \\\n",
       "sentence                                                                                                \n",
       "The Allies, known initially as \"The Triple Ente...  ['The Triple Entente', 'the British Empire', '...   \n",
       "Germany, Austria-Hungary, Bulgaria, and later t...  ['Germany', 'Austria-Hungary', 'Bulgaria', 'th...   \n",
       "In 1917, Russia ended hostile actions against t...   ['1917', 'Russia', 'the Central Powers', 'Tsar']   \n",
       "The Bolsheviks negotiated the Treaty of Brest-L...  ['Bolsheviks', 'the Treaty of Brest-Litovsk', ...   \n",
       "In the treaty, Bolshevik Russia ceded the Balti...  ['Bolshevik Russia', 'Baltic', 'Germany', 'Kar...   \n",
       "\n",
       "                                                           character_entity  \n",
       "sentence                                                                     \n",
       "The Allies, known initially as \"The Triple Ente...     ['france', 'russia']  \n",
       "Germany, Austria-Hungary, Bulgaria, and later t...  ['germany', 'bulgaria']  \n",
       "In 1917, Russia ended hostile actions against t...               ['russia']  \n",
       "The Bolsheviks negotiated the Treaty of Brest-L...    ['germany', 'russia']  \n",
       "In the treaty, Bolshevik Russia ceded the Balti...              ['germany']  "
      ]
     },
     "execution_count": 12,
     "metadata": {},
     "output_type": "execute_result"
    }
   ],
   "source": [
    "df.head()"
   ]
  },
  {
   "cell_type": "code",
   "execution_count": 15,
   "metadata": {},
   "outputs": [],
   "source": [
    "# Convert string representations of lists in the 'character_entity' column to actual lists\n",
    "df['character_entity'] = df['character_entity'].apply(ast.literal_eval)"
   ]
  },
  {
   "cell_type": "code",
   "execution_count": 16,
   "metadata": {},
   "outputs": [],
   "source": [
    "# Extract edges from the character_entity column\n",
    "edges = [tuple(entities) for entities in df['character_entity'] if len(entities) == 2]"
   ]
  },
  {
   "cell_type": "code",
   "execution_count": 17,
   "metadata": {},
   "outputs": [],
   "source": [
    "# Create the network graph\n",
    "G = nx.Graph()\n",
    "G.add_edges_from(edges)"
   ]
  },
  {
   "cell_type": "code",
   "execution_count": 18,
   "metadata": {},
   "outputs": [
    {
     "data": {
      "image/png": "[encoded data removed]",
      "text/plain": [
       "<Figure size 1200x800 with 1 Axes>"
      ]
     },
     "metadata": {},
     "output_type": "display_data"
    }
   ],
   "source": [
    "# Plot the static network graph\n",
    "plt.figure(figsize=(12, 8))\n",
    "nx.draw_networkx(G, with_labels=True, node_size=500, node_color=\"skyblue\", \n",
    "                 font_size=10, font_color=\"darkblue\", edge_color=\"gray\")\n",
    "plt.title(\"Country Relationships Network\")\n",
    "plt.show()"
   ]
  },
  {
   "cell_type": "code",
   "execution_count": 19,
   "metadata": {},
   "outputs": [
    {
     "name": "stdout",
     "output_type": "stream",
     "text": [
      "Warning: When  cdn_resources is 'local' jupyter notebook has issues displaying graphics on chrome/safari. Use cdn_resources='in_line' or cdn_resources='remote' if you have issues viewing graphics in a notebook.\n",
      "Interactive network graph saved as country_relationships_network.html\n"
     ]
    }
   ],
   "source": [
    "# Create the NetworkX graph\n",
    "G = nx.Graph()\n",
    "G.add_edges_from(edges)\n",
    "\n",
    "# Convert NetworkX graph to a Pyvis network for visualization\n",
    "net = Network(notebook=True)\n",
    "net.from_nx(G)\n",
    "\n",
    "# Customize options if desired\n",
    "net.set_options(\"\"\"\n",
    "var options = {\n",
    "  \"nodes\": {\n",
    "    \"color\": {\n",
    "      \"highlight\": {\n",
    "        \"background\": \"yellow\",\n",
    "        \"border\": \"red\"\n",
    "      }\n",
    "    }\n",
    "  },\n",
    "  \"edges\": {\n",
    "    \"color\": {\n",
    "      \"color\": \"gray\",\n",
    "      \"highlight\": \"blue\"\n",
    "    },\n",
    "    \"smooth\": {\n",
    "      \"type\": \"continuous\"\n",
    "    }\n",
    "  }\n",
    "}\n",
    "\"\"\")\n",
    "\n",
    "# Save as an interactive HTML file\n",
    "output_file = \"country_relationships_network.html\"\n",
    "net.save_graph(output_file)\n",
    "\n",
    "print(f\"Interactive network graph saved as {output_file}\")"
   ]
  },
  {
   "cell_type": "code",
   "execution_count": 36,
   "metadata": {},
   "outputs": [
    {
     "name": "stdout",
     "output_type": "stream",
     "text": [
      "Warning: When  cdn_resources is 'local' jupyter notebook has issues displaying graphics on chrome/safari. Use cdn_resources='in_line' or cdn_resources='remote' if you have issues viewing graphics in a notebook.\n",
      "Interactive network graph saved as 'country_relationships_network.html'\n"
     ]
    }
   ],
   "source": [
    "# Add edges to the graph for 'Ally' relationships\n",
    "for i, row in df.iterrows():\n",
    "    G.add_edge(row['Country'], row['Ally'], relationship='Ally')\n",
    "\n",
    "# Add edges to the graph for 'Trade_Partner' relationships\n",
    "for i, row in df.iterrows():\n",
    "    G.add_edge(row['Country'], row['Trade_Partner'], relationship='Trade Partner')\n",
    "\n",
    "# Step 4: Create a Pyvis network object\n",
    "net = Network(notebook=True)\n",
    "\n",
    "# Step 5: Convert the NetworkX graph to Pyvis\n",
    "net.from_nx(G)\n",
    "\n",
    "# Step 6: Customize the network\n",
    "# Adding nodes and edges with labels\n",
    "for node in G.nodes(data=True):\n",
    "    net.add_node(node[0], label=node[0])  # Add country names as labels\n",
    "\n",
    "for edge in G.edges(data=True):\n",
    "    relationship = edge[2]['relationship']\n",
    "    net.add_edge(edge[0], edge[1], title=relationship)  # Use title for displaying relationship on hover\n",
    "\n",
    "# Step 7: Customize the appearance\n",
    "net.set_options(\"\"\"\n",
    "var options = {\n",
    "  \"height\": \"800px\",\n",
    "  \"width\": \"100%\",\n",
    "  \"physics\": {\n",
    "    \"enabled\": true,\n",
    "    \"barnesHut\": {\n",
    "      \"gravitationalConstant\": -8000,\n",
    "      \"centralGravity\": 0.3,\n",
    "      \"springLength\": 95,\n",
    "      \"springConstant\": 0.04,\n",
    "      \"damping\": 0.09,\n",
    "      \"avoidOverlap\": 1\n",
    "    }\n",
    "  },\n",
    "  \"manipulation\": {\n",
    "    \"enabled\": false\n",
    "  },\n",
    "  \"nodes\": {\n",
    "    \"shape\": \"dot\",\n",
    "    \"size\": 20,\n",
    "    \"color\": {\n",
    "      \"border\": \"rgba(0, 0, 0, 0.8)\",\n",
    "      \"background\": \"rgba(135, 206, 235, 0.8)\"\n",
    "    },\n",
    "    \"font\": {\n",
    "      \"color\": \"black\",\n",
    "      \"size\": 14,\n",
    "      \"face\": \"arial\",\n",
    "      \"strokeWidth\": 2\n",
    "    }\n",
    "  },\n",
    "  \"edges\": {\n",
    "    \"smooth\": {\n",
    "      \"enabled\": true,\n",
    "      \"type\": \"continuous\",\n",
    "      \"roundness\": 0.5\n",
    "    },\n",
    "    \"color\": {\n",
    "      \"color\": \"rgba(0, 0, 0, 0.5)\",\n",
    "      \"highlight\": \"rgba(255, 0, 0, 1)\",\n",
    "      \"hover\": \"rgba(255, 0, 0, 1)\"\n",
    "    }\n",
    "  }\n",
    "}\n",
    "\"\"\")\n",
    "\n",
    "# Step 8: Save the network as an HTML file\n",
    "net.save_graph(\"country_relationships_network.html\")\n",
    "\n",
    "print(\"Interactive network graph saved as 'country_relationships_network.html'\")"
   ]
  },
  {
   "cell_type": "code",
   "execution_count": 20,
   "metadata": {},
   "outputs": [
    {
     "name": "stdout",
     "output_type": "stream",
     "text": [
      "Requirement already satisfied: leidenalg in /opt/anaconda3/lib/python3.12/site-packages (0.10.2)\n",
      "Requirement already satisfied: igraph in /opt/anaconda3/lib/python3.12/site-packages (0.11.6)\n",
      "Requirement already satisfied: texttable>=1.6.2 in /opt/anaconda3/lib/python3.12/site-packages (from igraph) (1.7.0)\n"
     ]
    }
   ],
   "source": [
    "!pip install leidenalg igraph"
   ]
  },
  {
   "cell_type": "code",
   "execution_count": 22,
   "metadata": {},
   "outputs": [
    {
     "name": "stdout",
     "output_type": "stream",
     "text": [
      "Warning: When  cdn_resources is 'local' jupyter notebook has issues displaying graphics on chrome/safari. Use cdn_resources='in_line' or cdn_resources='remote' if you have issues viewing graphics in a notebook.\n",
      "Interactive community network graph saved as country_relationships_communities.html\n"
     ]
    }
   ],
   "source": [
    "import leidenalg as la\n",
    "import igraph as ig\n",
    "\n",
    "\n",
    "# Create the NetworkX graph\n",
    "G_nx = nx.Graph()\n",
    "G_nx.add_edges_from(edges)\n",
    "\n",
    "# Convert NetworkX graph to an iGraph graph for community detection\n",
    "G_ig = ig.Graph.TupleList(edges, directed=False)\n",
    "\n",
    "# Apply the Leiden algorithm\n",
    "partition = la.find_partition(G_ig, la.CPMVertexPartition, resolution_parameter=0.1)\n",
    "\n",
    "# Map detected communities back to NetworkX nodes\n",
    "community_dict = {node: part for part, community in enumerate(partition) for node in community}\n",
    "nx.set_node_attributes(G_nx, community_dict, 'community')\n",
    "\n",
    "# Convert NetworkX graph to a Pyvis network for visualization\n",
    "net = Network(notebook=True)\n",
    "net.from_nx(G_nx)\n",
    "\n",
    "# Apply community-based coloring in the Pyvis network\n",
    "for node in net.nodes:\n",
    "    # Use node['id'] if it exists in community_dict\n",
    "    community_id = community_dict.get(node['id'])\n",
    "    if community_id is not None:\n",
    "        # Apply unique color based on community ID\n",
    "        node['color'] = f\"hsl({community_id * 137 % 360}, 80%, 70%)\"\n",
    "    else:\n",
    "        node['color'] = 'gray'  # Default color if community not found\n",
    "\n",
    "# Save as an interactive HTML file\n",
    "output_file = \"country_relationships_communities.html\"\n",
    "net.save_graph(output_file)\n",
    "\n",
    "print(f\"Interactive community network graph saved as {output_file}\")"
   ]
  },
  {
   "cell_type": "markdown",
   "metadata": {},
   "source": [
    "Community Detection:\n",
    "The Leiden algorithm divided the countries into distinct communities, which reflect alliances, geographic proximity, or historical relationships. For instance:\n",
    "\n",
    "Europe-focused communities: Western European countries (like France and Germany) often appear in one community, hinting at alliances and interactions, particularly due to their roles in world wars.\n",
    "Asia-focused connections: Countries like Japan and Russia might form separate or overlapping clusters, given historical tensions and alliances in Asia.\n",
    "Colonial influences: Some clusters reflect colonial histories, such as connections between former colonies and European powers.\n",
    "Historical Relevance:\n",
    "This partitioning aligns with historical events, such as alliances in the World Wars and post-colonial connections. This graph helps visualize how historical and geopolitical factors drive lasting connections between countries.\n",
    "\n",
    "Further Conclusions:\n",
    "Proximity and Conflict: Countries in close geographical proximity or those involved in historical conflicts often share the same communities.\n",
    "Trade and Diplomatic Ties: Communities could also represent economic alliances and diplomacy. Observing which countries remain isolated or connected might help analyze present-day international relations."
   ]
  },
  {
   "cell_type": "code",
   "execution_count": 24,
   "metadata": {},
   "outputs": [
    {
     "name": "stdout",
     "output_type": "stream",
     "text": [
      "Degree Centrality Scores:\n",
      "france: 0.125\n",
      "russia: 0.125\n",
      "germany: 0.3333333333333333\n",
      "bulgaria: 0.041666666666666664\n",
      "poland: 0.08333333333333333\n",
      "norway: 0.041666666666666664\n",
      "denmark: 0.041666666666666664\n",
      "ukraine: 0.041666666666666664\n",
      "belarus: 0.041666666666666664\n",
      "libya: 0.08333333333333333\n",
      "egypt: 0.041666666666666664\n",
      "japan: 0.29166666666666663\n",
      "italy: 0.125\n",
      "morocco: 0.041666666666666664\n",
      "algeria: 0.041666666666666664\n",
      "philippines: 0.041666666666666664\n",
      "solomon islands: 0.041666666666666664\n",
      "india: 0.041666666666666664\n",
      "south africa: 0.041666666666666664\n",
      "israel: 0.041666666666666664\n",
      "iran: 0.041666666666666664\n",
      "mongolia: 0.041666666666666664\n",
      "cuba: 0.041666666666666664\n",
      "canada: 0.041666666666666664\n",
      "australia: 0.041666666666666664\n",
      "\n",
      "Closeness Centrality Scores:\n",
      "france: 0.1875\n",
      "russia: 0.22499999999999998\n",
      "germany: 0.28125\n",
      "bulgaria: 0.16875\n",
      "poland: 0.17763157894736842\n",
      "norway: 0.041666666666666664\n",
      "denmark: 0.041666666666666664\n",
      "ukraine: 0.041666666666666664\n",
      "belarus: 0.041666666666666664\n",
      "libya: 0.08333333333333333\n",
      "egypt: 0.05555555555555555\n",
      "japan: 0.2596153846153846\n",
      "italy: 0.16875\n",
      "morocco: 0.041666666666666664\n",
      "algeria: 0.041666666666666664\n",
      "philippines: 0.1607142857142857\n",
      "solomon islands: 0.1607142857142857\n",
      "india: 0.1607142857142857\n",
      "south africa: 0.041666666666666664\n",
      "israel: 0.041666666666666664\n",
      "iran: 0.05555555555555555\n",
      "mongolia: 0.041666666666666664\n",
      "cuba: 0.041666666666666664\n",
      "canada: 0.041666666666666664\n",
      "australia: 0.041666666666666664\n",
      "\n",
      "Betweenness Centrality Scores:\n",
      "france: 0.0018115942028985507\n",
      "russia: 0.007246376811594203\n",
      "germany: 0.07789855072463768\n",
      "bulgaria: 0.0\n",
      "poland: 0.0\n",
      "norway: 0.0\n",
      "denmark: 0.0\n",
      "ukraine: 0.0\n",
      "belarus: 0.0\n",
      "libya: 0.0036231884057971015\n",
      "egypt: 0.0\n",
      "japan: 0.07608695652173914\n",
      "italy: 0.0\n",
      "morocco: 0.0\n",
      "algeria: 0.0\n",
      "philippines: 0.0\n",
      "solomon islands: 0.0\n",
      "india: 0.0\n",
      "south africa: 0.0\n",
      "israel: 0.0\n",
      "iran: 0.0\n",
      "mongolia: 0.0\n",
      "cuba: 0.0\n",
      "canada: 0.0\n",
      "australia: 0.0\n"
     ]
    }
   ],
   "source": [
    "# Create the NetworkX graph\n",
    "G = nx.Graph()\n",
    "G.add_edges_from(edges)\n",
    "\n",
    "# Step 1: Calculate Centrality Measures\n",
    "degree_centrality = nx.degree_centrality(G)\n",
    "closeness_centrality = nx.closeness_centrality(G)\n",
    "betweenness_centrality = nx.betweenness_centrality(G)\n",
    "\n",
    "# Step 2: Print Centrality Scores\n",
    "print(\"Degree Centrality Scores:\")\n",
    "for node, score in degree_centrality.items():\n",
    "    print(f\"{node}: {score}\")\n",
    "\n",
    "print(\"\\nCloseness Centrality Scores:\")\n",
    "for node, score in closeness_centrality.items():\n",
    "    print(f\"{node}: {score}\")\n",
    "\n",
    "print(\"\\nBetweenness Centrality Scores:\")\n",
    "for node, score in betweenness_centrality.items():\n",
    "    print(f\"{node}: {score}\")"
   ]
  },
  {
   "cell_type": "markdown",
   "metadata": {},
   "source": [
    "## Degree Centrality\n",
    "\n",
    "#### Top Nodes: Germany (0.333) and Japan (0.292) exhibit the highest degree centrality, indicating that they have a significant number of direct connections with other nodes in the graph.\n",
    "\n",
    "#### Low Centrality: Many countries like Bulgaria, Norway, and others have very low degree centrality (around 0.041), suggesting they are less connected within the network.\n",
    "\n",
    "#### Implications: Countries with high degree centrality could be viewed as more influential or prominent within the network, likely engaging in more interactions or relationships with other entities.\n",
    "\n",
    "## Closeness Centrality\n",
    "\n",
    "#### Top Nodes: The highest closeness centrality scores are seen in Germany (0.281) and Japan (0.260). These countries can reach other nodes more quickly than others, indicating a strategic advantage in spreading information or resources.\n",
    "\n",
    "#### Low Centrality: Countries like Norway, Denmark, and others again show very low scores (around 0.041), meaning they are more distant from the majority of the network.\n",
    "\n",
    "#### Implications: High closeness centrality suggests that a country can effectively manage and coordinate with others, potentially leading to faster responses in collaborative situations.\n",
    "\n",
    "## Betweenness Centrality\n",
    "\n",
    "#### Top Nodes: Germany (0.078) and Japan (0.076) again emerge as key players, indicating they serve as important bridges between other nodes in the network. This can imply a strategic role in communication and resource flow.\n",
    "\n",
    "#### Zero Scores: A considerable number of countries (e.g., Bulgaria, Poland, Norway) have a betweenness centrality of 0, meaning they do not serve as intermediaries in any connections. This could suggest isolation or lack of influence in the network.\n",
    "\n",
    "#### Implications: Countries with high betweenness centrality may have significant control over the flow of information or resources, thus playing a critical role in negotiations or collaborations."
   ]
  },
  {
   "cell_type": "code",
   "execution_count": null,
   "metadata": {},
   "outputs": [],
   "source": []
  }
 ],
 "metadata": {
  "kernelspec": {
   "display_name": "Python 3 (ipykernel)",
   "language": "python",
   "name": "python3"
  },
  "language_info": {
   "codemirror_mode": {
    "name": "ipython",
    "version": 3
   },
   "file_extension": ".py",
   "mimetype": "text/x-python",
   "name": "python",
   "nbconvert_exporter": "python",
   "pygments_lexer": "ipython3",
   "version": "3.12.2"
  }
 },
 "nbformat": 4,
 "nbformat_minor": 4
}
